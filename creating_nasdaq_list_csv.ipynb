{
 "cells": [
  {
   "cell_type": "markdown",
   "id": "10769087",
   "metadata": {},
   "source": [
    "# The objetive of this script is to update the list of nasdaq ticker in a .csv file\n",
    "\n",
    "## Author: Pablo Calatayud\n",
    "## Email: pablocalatayudpelayo@gmail.com\n",
    "## git-hub: pcalatayud-prog\n",
    "## Linkedin; https://www.linkedin.com/in/pablo-calatayud-pelayo/\n"
   ]
  },
  {
   "cell_type": "code",
   "execution_count": 1,
   "id": "0ba1e135",
   "metadata": {},
   "outputs": [],
   "source": [
    "import http.client\n",
    "import random\n",
    "import shutil\n",
    "import urllib.request as request\n",
    "from contextlib import closing\n",
    "\n",
    "import pandas as pd\n",
    "import requests\n",
    "import pandas as pd\n",
    "import numpy as np\n",
    "\n",
    "import matplotlib.pyplot as plt\n",
    "import yfinance as yf\n",
    "plt.style.use(\"seaborn\")"
   ]
  },
  {
   "cell_type": "code",
   "execution_count": 2,
   "id": "3cdb26ce",
   "metadata": {},
   "outputs": [
    {
     "data": {
      "text/plain": [
       "'2022-5-15-nasdaq_list.csv'"
      ]
     },
     "execution_count": 2,
     "metadata": {},
     "output_type": "execute_result"
    }
   ],
   "source": [
    "import datetime\n",
    "\n",
    "x = datetime.datetime.now()\n",
    "\n",
    "filename = str(x.year) + \"-\" + str(x.month) + \"-\" + str(x.day) + \"-\" + \"nasdaq_list.csv\"\n",
    "filename"
   ]
  },
  {
   "cell_type": "code",
   "execution_count": 3,
   "id": "4aeadc8f",
   "metadata": {
    "scrolled": true
   },
   "outputs": [],
   "source": [
    "# Retrieve the nasdaq tickers\n",
    "with closing(request.urlopen('ftp://ftp.nasdaqtrader.com/SymbolDirectory/nasdaqlisted.txt')) as r:\n",
    "    with open('nasdaqlisted.txt', 'wb') as f:\n",
    "        shutil.copyfileobj(r, f)\n",
    "# Nasdaq tickers\n",
    "df = pd.read_csv('nasdaqlisted.txt', sep=\"|\")\n",
    "\n",
    "df.tail()\n",
    "#Removing NA\n",
    "df.dropna(inplace=True)\n",
    "# Removing companys with Financial Status not Normal \n",
    "# N = Normal (Default): Issuer Is NOT Deficient, Delinquent, or Bankrupt.\n",
    "df=df.loc[df[\"Financial Status\"]==\"N\"]\n",
    "\n",
    "ticker=list(df[\"Symbol\"])\n",
    "\n",
    "nasdaq_list = pd.DataFrame()\n",
    "\n",
    "nasdaq_list[\"ticker\"]=ticker\n",
    "\n",
    "nasdaq_list.to_csv(filename)"
   ]
  },
  {
   "cell_type": "code",
   "execution_count": 6,
   "id": "1a35207c",
   "metadata": {},
   "outputs": [
    {
     "data": {
      "text/html": [
       "<div>\n",
       "<style scoped>\n",
       "    .dataframe tbody tr th:only-of-type {\n",
       "        vertical-align: middle;\n",
       "    }\n",
       "\n",
       "    .dataframe tbody tr th {\n",
       "        vertical-align: top;\n",
       "    }\n",
       "\n",
       "    .dataframe thead th {\n",
       "        text-align: right;\n",
       "    }\n",
       "</style>\n",
       "<table border=\"1\" class=\"dataframe\">\n",
       "  <thead>\n",
       "    <tr style=\"text-align: right;\">\n",
       "      <th></th>\n",
       "      <th>ticker</th>\n",
       "    </tr>\n",
       "  </thead>\n",
       "  <tbody>\n",
       "    <tr>\n",
       "      <th>0</th>\n",
       "      <td>AACG</td>\n",
       "    </tr>\n",
       "    <tr>\n",
       "      <th>1</th>\n",
       "      <td>AACI</td>\n",
       "    </tr>\n",
       "    <tr>\n",
       "      <th>2</th>\n",
       "      <td>AACIU</td>\n",
       "    </tr>\n",
       "  </tbody>\n",
       "</table>\n",
       "</div>"
      ],
      "text/plain": [
       "  ticker\n",
       "0   AACG\n",
       "1   AACI\n",
       "2  AACIU"
      ]
     },
     "execution_count": 6,
     "metadata": {},
     "output_type": "execute_result"
    }
   ],
   "source": [
    "nasdaq_list.head(3)"
   ]
  },
  {
   "cell_type": "code",
   "execution_count": null,
   "id": "9d183b47",
   "metadata": {},
   "outputs": [],
   "source": [
    "nasdaq_list.tail(3)"
   ]
  }
 ],
 "metadata": {
  "kernelspec": {
   "display_name": "Python 3 (ipykernel)",
   "language": "python",
   "name": "python3"
  },
  "language_info": {
   "codemirror_mode": {
    "name": "ipython",
    "version": 3
   },
   "file_extension": ".py",
   "mimetype": "text/x-python",
   "name": "python",
   "nbconvert_exporter": "python",
   "pygments_lexer": "ipython3",
   "version": "3.9.7"
  }
 },
 "nbformat": 4,
 "nbformat_minor": 5
}
